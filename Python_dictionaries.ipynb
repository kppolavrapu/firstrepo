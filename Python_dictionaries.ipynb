{
  "nbformat": 4,
  "nbformat_minor": 0,
  "metadata": {
    "colab": {
      "provenance": [],
      "authorship_tag": "ABX9TyN8zTr0ApaW7lvNpbnTTVo8",
      "include_colab_link": true
    },
    "kernelspec": {
      "name": "python3",
      "display_name": "Python 3"
    },
    "language_info": {
      "name": "python"
    }
  },
  "cells": [
    {
      "cell_type": "markdown",
      "metadata": {
        "id": "view-in-github",
        "colab_type": "text"
      },
      "source": [
        "<a href=\"https://colab.research.google.com/github/kppolavrapu/firstrepo/blob/master/Python_dictionaries.ipynb\" target=\"_parent\"><img src=\"https://colab.research.google.com/assets/colab-badge.svg\" alt=\"Open In Colab\"/></a>"
      ]
    },
    {
      "cell_type": "code",
      "execution_count": 2,
      "metadata": {
        "colab": {
          "base_uri": "https://localhost:8080/"
        },
        "id": "aAzyYLsuYjg4",
        "outputId": "bb1e2f58-1c5c-4643-ed71-37f690524add"
      },
      "outputs": [
        {
          "output_type": "stream",
          "name": "stdout",
          "text": [
            "<class 'dict'>\n",
            "<class 'dict'>\n"
          ]
        }
      ],
      "source": [
        "# declaring an empty dictionary\n",
        "d = {}\n",
        "#second way\n",
        "d1 = dict()\n",
        "print(type(d))\n",
        "print(type(d1))\n"
      ]
    },
    {
      "cell_type": "code",
      "source": [
        "#adding data to the dictionary\n",
        "d['name'] = 'kp'\n",
        "d['location'] = 'Hyd'\n",
        "d['age'] = 30\n",
        "\n",
        "print(d)\n",
        "#Accessing specific key\n",
        "print(d['location'])\n",
        "\n"
      ],
      "metadata": {
        "colab": {
          "base_uri": "https://localhost:8080/"
        },
        "id": "b1ehcDTBZdjv",
        "outputId": "8b02cfcf-7ba6-4f4d-a057-9cc21245d58b"
      },
      "execution_count": 5,
      "outputs": [
        {
          "output_type": "stream",
          "name": "stdout",
          "text": [
            "{'name': 'kp', 'location': 'Hyd', 'age': 30}\n",
            "Hyd\n",
            "dict_keys(['name', 'location', 'age'])\n"
          ]
        }
      ]
    },
    {
      "cell_type": "code",
      "source": [
        "#Accessing all keys\n",
        "k = list(d.keys())\n",
        "print(k)\n",
        "\n",
        "#Accessing all values\n",
        "l = list(d.values())\n",
        "print(l)"
      ],
      "metadata": {
        "colab": {
          "base_uri": "https://localhost:8080/"
        },
        "id": "vv5xfk2xaBPR",
        "outputId": "3b8e90eb-21e8-4b26-d473-bb3e06914d45"
      },
      "execution_count": 12,
      "outputs": [
        {
          "output_type": "stream",
          "name": "stdout",
          "text": [
            "['name', 'location', 'age']\n",
            "['kp', 'Hyd', 30]\n"
          ]
        }
      ]
    },
    {
      "cell_type": "code",
      "source": [
        "#Find the number of unique words in each sentence of given strings\n",
        "sent1 = 'in data analysis we use data and process it further to create better interpreted data'\n",
        "sent2 = 'more and more data will be passively collected'\n",
        "\n",
        "s1 = set(sent1.split(' '))\n",
        "s2 = set(sent2.split(' '))\n",
        "print(s1)\n",
        "print(s2)\n",
        "print('TOtal unique words in both sentenses',(len(s1)+len(s2)))\n"
      ],
      "metadata": {
        "colab": {
          "base_uri": "https://localhost:8080/"
        },
        "id": "sHPvWv70chhB",
        "outputId": "26085e46-c973-43a6-8985-755e24ff865d"
      },
      "execution_count": 16,
      "outputs": [
        {
          "output_type": "stream",
          "name": "stdout",
          "text": [
            "{'and', 'create', 'we', 'analysis', 'data', 'in', 'use', 'to', 'better', 'process', 'interpreted', 'it', 'further'}\n",
            "{'and', 'passively', 'be', 'will', 'data', 'more', 'collected'}\n",
            "TOtal unique words in both sentenses 20\n"
          ]
        }
      ]
    },
    {
      "cell_type": "code",
      "source": [
        "#Given two dictionaries, write a program for creating a dictionary in such a way that it consists of all the keys that are common in both dictionaries. The values corresponding to the keys in this new dictionary are the sum of the values of those keys in the two dictionaries.\n",
        "d1 = {'a':1,'b':2,'c':3}\n",
        "d2 = {'c':4,'d':5,'e':6}\n",
        "s = 0\n",
        "d3 = {}\n",
        "for k in d1.keys():\n",
        "    if k in d2.keys():\n",
        "        s += d1[k]+d2[k]\n",
        "        d3[k] = s\n",
        "print(s)\n",
        "print(d3)"
      ],
      "metadata": {
        "id": "irdm6rRuftgm"
      },
      "execution_count": null,
      "outputs": []
    },
    {
      "cell_type": "code",
      "source": [
        "'''Given an input string, write a program to count the frequency of each character in the string.\n",
        "Map the characters and their respective frequency into a dictionary and return that dictionary.'''\n",
        "str1 = 'ABC'\n",
        "d1 = {}\n",
        "for i in str1:\n",
        "  if i not in d1:\n",
        "    d1[i] = 1\n",
        "  else:\n",
        "    d1[i] += 1\n",
        "print(d1)"
      ],
      "metadata": {
        "colab": {
          "base_uri": "https://localhost:8080/"
        },
        "id": "Ap8BOJtzjVyl",
        "outputId": "3dcda454-0c5b-4bdd-c78b-fc206bd80e31"
      },
      "execution_count": 17,
      "outputs": [
        {
          "output_type": "stream",
          "name": "stdout",
          "text": [
            "{'A': 1, 'B': 1, 'C': 1}\n"
          ]
        }
      ]
    }
  ]
}